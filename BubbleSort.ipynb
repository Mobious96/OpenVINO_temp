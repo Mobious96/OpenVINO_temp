{
  "nbformat": 4,
  "nbformat_minor": 0,
  "metadata": {
    "colab": {
      "name": "BubbleSort.ipynb",
      "provenance": [],
      "collapsed_sections": [],
      "include_colab_link": true
    },
    "kernelspec": {
      "name": "python3",
      "display_name": "Python 3"
    }
  },
  "cells": [
    {
      "cell_type": "markdown",
      "metadata": {
        "id": "view-in-github",
        "colab_type": "text"
      },
      "source": [
        "<a href=\"https://colab.research.google.com/github/Mobious96/OpenVINO_temp/blob/master/BubbleSort.ipynb\" target=\"_parent\"><img src=\"https://colab.research.google.com/assets/colab-badge.svg\" alt=\"Open In Colab\"/></a>"
      ]
    },
    {
      "cell_type": "code",
      "metadata": {
        "id": "ChFvsgyLSz6M",
        "colab_type": "code",
        "colab": {}
      },
      "source": [
        "from numpy.random import seed\n",
        "from numpy.random import randint"
      ],
      "execution_count": 0,
      "outputs": []
    },
    {
      "cell_type": "code",
      "metadata": {
        "id": "6ucbPbL6TuAD",
        "colab_type": "code",
        "colab": {
          "base_uri": "https://localhost:8080/",
          "height": 34
        },
        "outputId": "fd7a453b-0a17-44ae-e7e7-a916c45ebd0e"
      },
      "source": [
        "seed(1);\n",
        "A = randint(0,20,10);\n",
        "A"
      ],
      "execution_count": 14,
      "outputs": [
        {
          "output_type": "execute_result",
          "data": {
            "text/plain": [
              "array([ 5, 11, 12,  8,  9, 11,  5, 15,  0, 16])"
            ]
          },
          "metadata": {
            "tags": []
          },
          "execution_count": 14
        }
      ]
    },
    {
      "cell_type": "code",
      "metadata": {
        "id": "SeLsAeZxT9v5",
        "colab_type": "code",
        "colab": {}
      },
      "source": [
        "def BubbleSort(Array):\n",
        "  for i in range(len(Array)-1):\n",
        "    for j in range(len(Array) - 1 - i):\n",
        "      if(Array[j] > Array[j+1]):\n",
        "        buf = Array[j];\n",
        "        Array[j] = Array[j+1];\n",
        "        Array[j+1] = buf"
      ],
      "execution_count": 0,
      "outputs": []
    },
    {
      "cell_type": "code",
      "metadata": {
        "id": "XDmbgTvlVPlp",
        "colab_type": "code",
        "colab": {}
      },
      "source": [
        "BubbleSort(A)"
      ],
      "execution_count": 0,
      "outputs": []
    },
    {
      "cell_type": "code",
      "metadata": {
        "id": "0gh6NsqbV_S8",
        "colab_type": "code",
        "colab": {
          "base_uri": "https://localhost:8080/",
          "height": 34
        },
        "outputId": "16751e8a-149f-4c13-8b42-59671eb722a2"
      },
      "source": [
        "A"
      ],
      "execution_count": 18,
      "outputs": [
        {
          "output_type": "execute_result",
          "data": {
            "text/plain": [
              "array([ 0,  5,  5,  8,  9, 11, 11, 12, 15, 16])"
            ]
          },
          "metadata": {
            "tags": []
          },
          "execution_count": 18
        }
      ]
    }
  ]
}